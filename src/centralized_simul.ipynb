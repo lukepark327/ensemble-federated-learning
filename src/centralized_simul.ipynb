{
 "metadata": {
  "language_info": {
   "codemirror_mode": {
    "name": "ipython",
    "version": 3
   },
   "file_extension": ".py",
   "mimetype": "text/x-python",
   "name": "python",
   "nbconvert_exporter": "python",
   "pygments_lexer": "ipython3",
   "version": "3.6.8-final"
  },
  "orig_nbformat": 2,
  "kernelspec": {
   "name": "python3",
   "display_name": "Python 3",
   "language": "python"
  }
 },
 "nbformat": 4,
 "nbformat_minor": 2,
 "cells": [
  {
   "source": [
    "# Centralized Learning Simulator\n",
    "\n",
    "Simulating `Centralized Learning` paradigm."
   ],
   "cell_type": "markdown",
   "metadata": {}
  },
  {
   "cell_type": "code",
   "execution_count": null,
   "metadata": {},
   "outputs": [],
   "source": [
    "import import_ipynb\n",
    "import nn.ml as ml\n",
    "import nn.nets as nets"
   ]
  },
  {
   "cell_type": "code",
   "execution_count": null,
   "metadata": {
    "tags": []
   },
   "outputs": [],
   "source": [
    "if __name__ == \"__main__\":\n",
    "    import os\n",
    "    from copy import deepcopy\n",
    "\n",
    "    import torch\n",
    "    import torch.nn as nn\n",
    "    import torch.optim as optim\n",
    "    from torch.autograd import Variable\n",
    "\n",
    "    import torchvision.datasets as dset\n",
    "    import torchvision.transforms as transforms\n",
    "\n",
    "    from torch.utils.data import DataLoader  # TODO: DistributedDataParallel\n",
    "\n",
    "    \"\"\"Hyperparams\"\"\"\n",
    "    numWorkers = 4\n",
    "    cuda = True\n",
    "\n",
    "    base_path = './simul_centralized'\n",
    "    os.makedirs(base_path, exist_ok=True)\n",
    "    trainFile = open(os.path.join(base_path, 'train.csv'), 'w')\n",
    "    testFile = open(os.path.join(base_path, 'test.csv'), 'w')\n",
    "\n",
    "    epochs = 3000\n",
    "    batchSz = 64\n",
    "\n",
    "    \"\"\"Datasets\"\"\"\n",
    "    # # gets mean and std\n",
    "    # transform = transforms.Compose([transforms.ToTensor()])\n",
    "    # dataset = dset.CIFAR10(root='cifar', train=True, download=True, transform=transform)\n",
    "    # normMean, normStd = dist.get_norm(dataset)\n",
    "    normMean = [0.49139968, 0.48215841, 0.44653091]\n",
    "    normStd = [0.24703223, 0.24348513, 0.26158784]\n",
    "    normTransform = transforms.Normalize(normMean, normStd)\n",
    "\n",
    "    trainTransform = transforms.Compose([\n",
    "        transforms.RandomCrop(32, padding=4),\n",
    "        transforms.RandomHorizontalFlip(),\n",
    "        transforms.ToTensor(),\n",
    "        normTransform\n",
    "    ])\n",
    "    testTransform = transforms.Compose([\n",
    "        transforms.ToTensor(),\n",
    "        normTransform\n",
    "    ])\n",
    "\n",
    "    trainset = dset.CIFAR10(root='cifar', train=True, download=True, transform=trainTransform)\n",
    "    testset = dset.CIFAR10(root='cifar', train=False, download=True, transform=trainTransform)\n",
    "\n",
    "    # num_workers: number of CPU cores to use for data loading\n",
    "    # pin_memory: being able to speed up the host to device transfer by enabling\n",
    "    kwargs = {'num_workers': numWorkers, 'pin_memory': cuda}\n",
    "\n",
    "    # loaders\n",
    "    trainLoader = DataLoader(trainset, batch_size=batchSz, shuffle=True, **kwargs)\n",
    "    testLoader = DataLoader(testset, batch_size=batchSz, shuffle=True, **kwargs)\n",
    "\n",
    "    \"\"\"Nets\"\"\"\n",
    "    num_classes = 10\n",
    "    resnet = nets.resnet18(num_classes=num_classes)\n",
    "\n",
    "    criterion = nn.CrossEntropyLoss()\n",
    "    optimizer = optim.SGD(resnet.parameters(), lr=1e-1, momentum=0.9)\n",
    "\n",
    "    if cuda:\n",
    "        # if multi-gpus\n",
    "        if torch.cuda.device_count() > 1:\n",
    "            resnet = nn.DataParallel(resnet)\n",
    "\n",
    "        # use cuda\n",
    "        resnet.cuda()\n",
    "\n",
    "    \"\"\"Train & Test models\"\"\"\n",
    "    for epoch in range(epochs):\n",
    "        ml.train(\n",
    "            resnet, criterion, optimizer, trainLoader,\n",
    "            epoch=epoch, cuda=cuda, log=True, log_file=trainFile\n",
    "            # alpha=0.9, temperature=4\n",
    "        )\n",
    "        ml.test(\n",
    "            resnet, criterion, testLoader,\n",
    "            epoch=epoch, cuda=cuda, log=True, log_file=testFile\n",
    "        )"
   ]
  }
 ]
}